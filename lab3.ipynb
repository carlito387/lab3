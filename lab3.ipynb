{
 "cells": [
  {
   "cell_type": "code",
   "execution_count": 71,
   "metadata": {},
   "outputs": [],
   "source": [
    "import numpy as np\n",
    "import matplotlib.pyplot as plt\n",
    "import matplotlib.mlab as mlab\n",
    "import random\n",
    "from scipy.special import comb\n",
    "from PIL import Image"
   ]
  },
  {
   "cell_type": "markdown",
   "metadata": {},
   "source": [
    "# QUESTION 1"
   ]
  },
  {
   "cell_type": "code",
   "execution_count": 2,
   "metadata": {},
   "outputs": [],
   "source": [
    "def chebyshev_nodes(n):\n",
    "    nodes = []\n",
    "    for k in range(1,n+1):\n",
    "        nodes = nodes + [np.cos((2*k-1)*np.pi/(2*n))]\n",
    "    nodes.sort()\n",
    "    return nodes"
   ]
  },
  {
   "cell_type": "code",
   "execution_count": 3,
   "metadata": {},
   "outputs": [],
   "source": [
    "def lagrange_coef(nodes, n, x):\n",
    "    phi_k = []\n",
    "    for k in range (0,n):\n",
    "        phi = 1\n",
    "        for i in range(0,n):\n",
    "            if i != k:\n",
    "                phi = phi * (x-nodes[i]) / (nodes[k] - nodes[i])\n",
    "        phi_k = phi_k + [phi]\n",
    "    return phi_k"
   ]
  },
  {
   "cell_type": "code",
   "execution_count": 27,
   "metadata": {},
   "outputs": [
    {
     "data": {
      "image/png": "[encoded data removed]",
      "text/plain": [
       "<matplotlib.figure.Figure at 0x2456c8105f8>"
      ]
     },
     "metadata": {},
     "output_type": "display_data"
    }
   ],
   "source": [
    "n=150\n",
    "plotting1 = []\n",
    "plotting2 = []\n",
    "for i in range(1,n+1):\n",
    "    sum_pos_1 = np.sum(np.absolute(lagrange_coef(chebyshev_nodes(i),i,1)))\n",
    "    sum_neg_1 = np.sum(np.absolute(lagrange_coef(chebyshev_nodes(i),i,-1)))\n",
    "    tmp = [sum_pos_1, sum_neg_1]\n",
    "    plotting1 = plotting1 + [np.amax(tmp)]\n",
    "    plotting2 = plotting2 + [i]\n",
    "    \n",
    "plt.title('$||L_n||$ in function of $n$')\n",
    "plt.xlabel('$n$')\n",
    "plt.ylabel('$||L_n||$')\n",
    "\n",
    "plt.plot(plotting2,plotting1,'blue',label=\"$||L_n||$\")\n",
    "plt.plot(np.linspace(1,n),0.43*np.log2(np.linspace(1,n)),'red',label=\"$c*\\log_2{n}$\")\n",
    "plt.xscale('log', basex=2)\n",
    "plt.legend()\n",
    "plt.show()"
   ]
  },
  {
   "cell_type": "markdown",
   "metadata": {},
   "source": [
    "So in the assumed dependance $||L_n||=c*\\log_2{n}$, we see that $c\\approx 0.43$."
   ]
  },
  {
   "cell_type": "markdown",
   "metadata": {},
   "source": [
    "# QUESTION 2"
   ]
  },
  {
   "cell_type": "code",
   "execution_count": 15,
   "metadata": {},
   "outputs": [],
   "source": [
    "def equidistant_nodes(a,b,n):\n",
    "    return np.linspace(a,b,n)"
   ]
  },
  {
   "cell_type": "code",
   "execution_count": 16,
   "metadata": {},
   "outputs": [],
   "source": [
    "def lagrange_coef_0(j,nodes,n,x):\n",
    "    product = 1\n",
    "    for i in range(0,n):\n",
    "        if i != j:\n",
    "            product = product * (x - nodes[i]) / (nodes[j] - nodes[i])\n",
    "    return product"
   ]
  },
  {
   "cell_type": "code",
   "execution_count": 17,
   "metadata": {},
   "outputs": [],
   "source": [
    "def lagrange_coef_dx(j,nodes,n,x):\n",
    "    summation = 0\n",
    "    for l in range(0,n):\n",
    "        if l != j:\n",
    "            product = 1\n",
    "            for m in range(0,n):\n",
    "                if m != l and m != j:\n",
    "                    product = product * (x - nodes[m]) / (nodes[j] - nodes[m])\n",
    "            summation = summation + np.sign(lagrange_coef_0(j,nodes,n,x)) * product / (nodes[j] - nodes[l])\n",
    "    return summation\n",
    "\n",
    "def sum_dx(n,nodes,x):\n",
    "    summation=0\n",
    "    for i in range(0,n):\n",
    "        summation = summation + lagrange_coef_dx(i,nodes,n,x)\n",
    "    return summation"
   ]
  },
  {
   "cell_type": "code",
   "execution_count": 18,
   "metadata": {},
   "outputs": [],
   "source": [
    "def lagrange_coef_dx_dx(j,nodes,n,x):\n",
    "    summation1 = 0\n",
    "    for l in range(0,n):\n",
    "        if l != j:\n",
    "            summation2 = 0\n",
    "            for m in range(0,n):\n",
    "                if m != l and m != j:\n",
    "                    product = 1\n",
    "                    for k in range(0,n):\n",
    "                        if k != m and k != j and k != l:\n",
    "                            product = product * (x-nodes[k]) / (nodes[j] - nodes[k])\n",
    "                    summation2 = summation2 + product / (nodes[j] - nodes[m])\n",
    "            summation1 = summation1 + np.sign(lagrange_coef_0(j,nodes,n,x)) * summation2 / (nodes[j] - nodes[l])\n",
    "    return summation1\n",
    "\n",
    "def sum_dx_dx(n,nodes,x):\n",
    "    summation=0\n",
    "    for i in range(0,n):\n",
    "        summation = summation + lagrange_coef_dx_dx(i,nodes,n,x)\n",
    "    return summation"
   ]
  },
  {
   "cell_type": "code",
   "execution_count": 45,
   "metadata": {},
   "outputs": [],
   "source": [
    "def newton_raphson(x0,nodes,eps,error,n):\n",
    "    while(error>eps):\n",
    "        error = np.absolute(x0 - (x0 - sum_dx(n,nodes,x0) / sum_dx_dx(n,nodes,x0)))\n",
    "        x0 = x0 - sum_dx(n,nodes,x0) / sum_dx_dx(n,nodes,x0)\n",
    "    return x0\n",
    "    "
   ]
  },
  {
   "cell_type": "code",
   "execution_count": 28,
   "metadata": {},
   "outputs": [
    {
     "data": {
      "image/png": "[encoded data removed]",
      "text/plain": [
       "<matplotlib.figure.Figure at 0x2456dab2860>"
      ]
     },
     "metadata": {},
     "output_type": "display_data"
    }
   ],
   "source": [
    "n=50\n",
    "plotting1 = []\n",
    "plotting2 = []\n",
    "for i in range(3,n):\n",
    "    maximum = newton_raphson((2+(2-1/(i-1)))/2,equidistant_nodes(0,2,i),0.001,np.inf,i)\n",
    "    delta_max = np.sum(np.absolute(lagrange_coef(equidistant_nodes(0,2,i),i,maximum)))\n",
    "    plotting1 = plotting1 + [delta_max]\n",
    "    plotting2 = plotting2 + [i]\n",
    "    \n",
    "plt.title('$||L_n||$ in function of $n$')\n",
    "plt.xlabel('$n$')\n",
    "plt.ylabel('$||L_n||$')\n",
    "\n",
    "plt.plot(plotting2,plotting1,'blue',label=\"$||L_n||$\")\n",
    "plt.plot(np.linspace(1,n),np.power(2,np.linspace(1,n)),'red',label=\"$2^n$\")\n",
    "plt.yscale('log', basey=2)\n",
    "plt.legend()\n",
    "plt.show()"
   ]
  },
  {
   "cell_type": "markdown",
   "metadata": {},
   "source": [
    "We clearly see that $||L_n|| \\sim 2^n$. I used the Newton-Raphson method to maximize the $x$ of $\\lambda_n(x)$."
   ]
  },
  {
   "cell_type": "markdown",
   "metadata": {},
   "source": [
    "# QUESTION 3"
   ]
  },
  {
   "cell_type": "code",
   "execution_count": 32,
   "metadata": {},
   "outputs": [],
   "source": [
    "def fun_sin (n,x):\n",
    "    return np.absolute(np.sin((n+1/2)*x)/(2*np.sin(x/2)))"
   ]
  },
  {
   "cell_type": "code",
   "execution_count": 60,
   "metadata": {},
   "outputs": [
    {
     "data": {
      "image/png": "[encoded data removed]",
      "text/plain": [
       "<matplotlib.figure.Figure at 0x2456c8772e8>"
      ]
     },
     "metadata": {},
     "output_type": "display_data"
    }
   ],
   "source": [
    "n=150\n",
    "number_points = 10000\n",
    "nodes = equidistant_nodes(0,np.pi,number_points)\n",
    "plotting1= []\n",
    "plotting2 = []\n",
    "for j in range(2,n):\n",
    "    summation = 0\n",
    "    for i in range(1,number_points):\n",
    "        if i == 1 or i == (number_points - 1):\n",
    "            summation = summation + fun_sin(j,nodes[i]) * (np.pi/number_points)/2\n",
    "        else:\n",
    "            summation = summation + fun_sin(j,nodes[i]) * (np.pi/number_points)\n",
    "    plotting1 = plotting1 + [summation]\n",
    "    plotting2 = plotting2 + [j]\n",
    "        \n",
    "plt.title('$||S_n||$ in function of $n$')\n",
    "plt.xlabel('$n$')\n",
    "plt.ylabel('$||S_n||$')\n",
    "\n",
    "plt.plot(plotting2,plotting1,'blue',label=\"$||S_n||$\")\n",
    "plt.plot(np.linspace(2,n),0.43*np.log2(np.linspace(2,n)),'red',label=\"$c*\\log_2{n}$\")\n",
    "plt.xscale('log', basex=2)\n",
    "plt.legend()\n",
    "plt.show()"
   ]
  },
  {
   "cell_type": "markdown",
   "metadata": {},
   "source": [
    "So in the assumed dependance $||S_n||=c*\\log_2{n}$, we see that $c\\approx 0.43$, as in question $1$."
   ]
  },
  {
   "cell_type": "markdown",
   "metadata": {},
   "source": [
    "# QUESTION 4"
   ]
  },
  {
   "cell_type": "code",
   "execution_count": 157,
   "metadata": {},
   "outputs": [],
   "source": [
    "def legendre_coef_0(n,x):\n",
    "    a = 1\n",
    "    b = x\n",
    "    c = 0\n",
    "    if n == 0:\n",
    "        return 1.0\n",
    "    if n == 1:\n",
    "        return x\n",
    "    for i in range(1,n):\n",
    "        c = ((2 * i + 1) * x * b - i * a) / (i + 1)\n",
    "        a = b\n",
    "        b = c\n",
    "    return c\n",
    "\n",
    "\n",
    "def fun_abs_sum(n,x):\n",
    "    summation = 0\n",
    "    for i in range(0,n+1):\n",
    "        summation = summation + (i + 0.5) * legendre_coef_0(i,x)\n",
    "    return np.absolute(summation)"
   ]
  },
  {
   "cell_type": "code",
   "execution_count": 158,
   "metadata": {},
   "outputs": [
    {
     "data": {
      "image/png": "[encoded data removed]",
      "text/plain": [
       "<matplotlib.figure.Figure at 0x2456c6f6400>"
      ]
     },
     "metadata": {},
     "output_type": "display_data"
    }
   ],
   "source": [
    "n=50\n",
    "number_points = 10000\n",
    "nodes = equidistant_nodes(-1,1,number_points)\n",
    "plotting1= []\n",
    "plotting2 = []\n",
    "for j in range(2,n):\n",
    "    summation = 0\n",
    "    for i in range(1,number_points):\n",
    "        if i == 1 or i == (number_points - 1):\n",
    "            summation = summation + fun_abs_sum(j,nodes[i]) * (2/number_points)/2\n",
    "        else:\n",
    "            summation = summation + fun_abs_sum(j,nodes[i]) * (2/number_points)\n",
    "    plotting1 = plotting1 + [summation]\n",
    "    plotting2 = plotting2 + [j]\n",
    "    \n",
    "plt.title('$||S_n||$ in function of $n$')\n",
    "plt.xlabel('$n$')\n",
    "plt.ylabel('$||S_n||$')\n",
    "\n",
    "plt.plot(plotting2,plotting1,'blue',label=\"$||S_n||$\")\n",
    "plt.plot(np.linspace(2,n),1.55*np.power(np.linspace(2,n),1/2),'red',label=\"$c*\\sqrt{n}$\")\n",
    "plt.legend()\n",
    "plt.show()"
   ]
  },
  {
   "cell_type": "markdown",
   "metadata": {},
   "source": [
    "So in the assumed dependance $||S_n||=c*\\sqrt{n}$, we see that $c\\approx 0.55$."
   ]
  },
  {
   "cell_type": "markdown",
   "metadata": {},
   "source": [
    "# QUESTION 5"
   ]
  },
  {
   "cell_type": "code",
   "execution_count": 211,
   "metadata": {},
   "outputs": [
    {
     "data": {
      "text/plain": [
       "0.13538135188703126"
      ]
     },
     "execution_count": 211,
     "metadata": {},
     "output_type": "execute_result"
    }
   ],
   "source": [
    "def lagrange_coef_0(j,nodes,n,x):\n",
    "    product = 1\n",
    "    for i in range(0,n):\n",
    "        if i != j:\n",
    "            product = product * (x - nodes[i]) / (nodes[j] - nodes[i])\n",
    "    return product\n",
    "lagrange_coef_0(4,equidistant_nodes(0,1,11),11,0.67)"
   ]
  },
  {
   "cell_type": "code",
   "execution_count": 215,
   "metadata": {},
   "outputs": [
    {
     "data": {
      "image/png": "[encoded data removed]",
      "text/plain": [
       "<matplotlib.figure.Figure at 0x2456d9e67b8>"
      ]
     },
     "metadata": {},
     "output_type": "display_data"
    }
   ],
   "source": [
    "most=20\n",
    "number_points = 10000\n",
    "nodes = equidistant_nodes(0,1,number_points)\n",
    "plotting1= []\n",
    "plotting2 = []\n",
    "for n in range(1,most):\n",
    "    summation = 0\n",
    "    for k in range(0,n+1):\n",
    "        integral = 0\n",
    "        for i in range(0,number_points):\n",
    "            if i == 0 or i == (number_points - 1):\n",
    "                integral = integral + lagrange_coef_0(k,nodes,n,nodes[i]) * (1/number_points)/2\n",
    "            else:\n",
    "                integral = integral + lagrange_coef_0(k,nodes,n,nodes[i]) * (1/number_points)\n",
    "        summation = summation + np.absolute(integral)\n",
    "    plotting1 = plotting1 + [summation]\n",
    "    plotting2 = plotting2 + [n]\n",
    "\n",
    "plt.title('$||Q_n||$ in function of $n$')\n",
    "plt.xlabel('$n$')\n",
    "plt.ylabel('$||Q_n||$')\n",
    "\n",
    "plt.plot(plotting2,plotting1,'blue',label=\"$||Q_n||$\")\n",
    "plt.plot(np.linspace(0,n),np.linspace(0,n),'red',label=\"$n$\")\n",
    "plt.legend()\n",
    "plt.show()"
   ]
  },
  {
   "cell_type": "code",
   "execution_count": null,
   "metadata": {},
   "outputs": [],
   "source": []
  }
 ],
 "metadata": {
  "kernelspec": {
   "display_name": "Python 3",
   "language": "python",
   "name": "python3"
  },
  "language_info": {
   "codemirror_mode": {
    "name": "ipython",
    "version": 3
   },
   "file_extension": ".py",
   "mimetype": "text/x-python",
   "name": "python",
   "nbconvert_exporter": "python",
   "pygments_lexer": "ipython3",
   "version": "3.6.4"
  }
 },
 "nbformat": 4,
 "nbformat_minor": 2
}
